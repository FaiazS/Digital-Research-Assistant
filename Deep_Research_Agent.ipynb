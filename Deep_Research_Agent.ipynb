{
  "nbformat": 4,
  "nbformat_minor": 0,
  "metadata": {
    "colab": {
      "provenance": [],
      "authorship_tag": "ABX9TyONUVgGEn5cCAgxRDed652F",
      "include_colab_link": true
    },
    "kernelspec": {
      "name": "python3",
      "display_name": "Python 3"
    },
    "language_info": {
      "name": "python"
    }
  },
  "cells": [
    {
      "cell_type": "markdown",
      "metadata": {
        "id": "view-in-github",
        "colab_type": "text"
      },
      "source": [
        "<a href=\"https://colab.research.google.com/github/FaiazS/Digital-Research-Assistant/blob/main/Deep_Research_Agent.ipynb\" target=\"_parent\"><img src=\"https://colab.research.google.com/assets/colab-badge.svg\" alt=\"Open In Colab\"/></a>"
      ]
    },
    {
      "cell_type": "code",
      "source": [
        "!pip install openai-agents\n",
        "\n",
        "!pip install sendgrid"
      ],
      "metadata": {
        "colab": {
          "base_uri": "https://localhost:8080/"
        },
        "id": "djWgXEzmDXs-",
        "outputId": "2697c3f2-48d4-4239-c5b9-8786f43d4025"
      },
      "execution_count": 41,
      "outputs": [
        {
          "output_type": "stream",
          "name": "stdout",
          "text": [
            "Requirement already satisfied: openai-agents in /usr/local/lib/python3.11/dist-packages (0.0.17)\n",
            "Requirement already satisfied: griffe<2,>=1.5.6 in /usr/local/lib/python3.11/dist-packages (from openai-agents) (1.7.3)\n",
            "Requirement already satisfied: mcp<2,>=1.8.0 in /usr/local/lib/python3.11/dist-packages (from openai-agents) (1.9.3)\n",
            "Requirement already satisfied: openai>=1.81.0 in /usr/local/lib/python3.11/dist-packages (from openai-agents) (1.84.0)\n",
            "Requirement already satisfied: pydantic<3,>=2.10 in /usr/local/lib/python3.11/dist-packages (from openai-agents) (2.11.5)\n",
            "Requirement already satisfied: requests<3,>=2.0 in /usr/local/lib/python3.11/dist-packages (from openai-agents) (2.32.3)\n",
            "Requirement already satisfied: types-requests<3,>=2.0 in /usr/local/lib/python3.11/dist-packages (from openai-agents) (2.32.0.20250602)\n",
            "Requirement already satisfied: typing-extensions<5,>=4.12.2 in /usr/local/lib/python3.11/dist-packages (from openai-agents) (4.14.0)\n",
            "Requirement already satisfied: colorama>=0.4 in /usr/local/lib/python3.11/dist-packages (from griffe<2,>=1.5.6->openai-agents) (0.4.6)\n",
            "Requirement already satisfied: anyio>=4.5 in /usr/local/lib/python3.11/dist-packages (from mcp<2,>=1.8.0->openai-agents) (4.9.0)\n",
            "Requirement already satisfied: httpx-sse>=0.4 in /usr/local/lib/python3.11/dist-packages (from mcp<2,>=1.8.0->openai-agents) (0.4.0)\n",
            "Requirement already satisfied: httpx>=0.27 in /usr/local/lib/python3.11/dist-packages (from mcp<2,>=1.8.0->openai-agents) (0.28.1)\n",
            "Requirement already satisfied: pydantic-settings>=2.5.2 in /usr/local/lib/python3.11/dist-packages (from mcp<2,>=1.8.0->openai-agents) (2.9.1)\n",
            "Requirement already satisfied: python-multipart>=0.0.9 in /usr/local/lib/python3.11/dist-packages (from mcp<2,>=1.8.0->openai-agents) (0.0.20)\n",
            "Requirement already satisfied: sse-starlette>=1.6.1 in /usr/local/lib/python3.11/dist-packages (from mcp<2,>=1.8.0->openai-agents) (2.3.6)\n",
            "Requirement already satisfied: starlette>=0.27 in /usr/local/lib/python3.11/dist-packages (from mcp<2,>=1.8.0->openai-agents) (0.46.2)\n",
            "Requirement already satisfied: uvicorn>=0.23.1 in /usr/local/lib/python3.11/dist-packages (from mcp<2,>=1.8.0->openai-agents) (0.34.3)\n",
            "Requirement already satisfied: distro<2,>=1.7.0 in /usr/local/lib/python3.11/dist-packages (from openai>=1.81.0->openai-agents) (1.9.0)\n",
            "Requirement already satisfied: jiter<1,>=0.4.0 in /usr/local/lib/python3.11/dist-packages (from openai>=1.81.0->openai-agents) (0.10.0)\n",
            "Requirement already satisfied: sniffio in /usr/local/lib/python3.11/dist-packages (from openai>=1.81.0->openai-agents) (1.3.1)\n",
            "Requirement already satisfied: tqdm>4 in /usr/local/lib/python3.11/dist-packages (from openai>=1.81.0->openai-agents) (4.67.1)\n",
            "Requirement already satisfied: annotated-types>=0.6.0 in /usr/local/lib/python3.11/dist-packages (from pydantic<3,>=2.10->openai-agents) (0.7.0)\n",
            "Requirement already satisfied: pydantic-core==2.33.2 in /usr/local/lib/python3.11/dist-packages (from pydantic<3,>=2.10->openai-agents) (2.33.2)\n",
            "Requirement already satisfied: typing-inspection>=0.4.0 in /usr/local/lib/python3.11/dist-packages (from pydantic<3,>=2.10->openai-agents) (0.4.1)\n",
            "Requirement already satisfied: charset-normalizer<4,>=2 in /usr/local/lib/python3.11/dist-packages (from requests<3,>=2.0->openai-agents) (3.4.2)\n",
            "Requirement already satisfied: idna<4,>=2.5 in /usr/local/lib/python3.11/dist-packages (from requests<3,>=2.0->openai-agents) (3.10)\n",
            "Requirement already satisfied: urllib3<3,>=1.21.1 in /usr/local/lib/python3.11/dist-packages (from requests<3,>=2.0->openai-agents) (2.4.0)\n",
            "Requirement already satisfied: certifi>=2017.4.17 in /usr/local/lib/python3.11/dist-packages (from requests<3,>=2.0->openai-agents) (2025.4.26)\n",
            "Requirement already satisfied: httpcore==1.* in /usr/local/lib/python3.11/dist-packages (from httpx>=0.27->mcp<2,>=1.8.0->openai-agents) (1.0.9)\n",
            "Requirement already satisfied: h11>=0.16 in /usr/local/lib/python3.11/dist-packages (from httpcore==1.*->httpx>=0.27->mcp<2,>=1.8.0->openai-agents) (0.16.0)\n",
            "Requirement already satisfied: python-dotenv>=0.21.0 in /usr/local/lib/python3.11/dist-packages (from pydantic-settings>=2.5.2->mcp<2,>=1.8.0->openai-agents) (1.1.0)\n",
            "Requirement already satisfied: click>=7.0 in /usr/local/lib/python3.11/dist-packages (from uvicorn>=0.23.1->mcp<2,>=1.8.0->openai-agents) (8.2.1)\n",
            "Requirement already satisfied: sendgrid in /usr/local/lib/python3.11/dist-packages (6.12.3)\n",
            "Requirement already satisfied: python-http-client>=3.2.1 in /usr/local/lib/python3.11/dist-packages (from sendgrid) (3.3.7)\n",
            "Requirement already satisfied: ecdsa<1,>=0.19.1 in /usr/local/lib/python3.11/dist-packages (from sendgrid) (0.19.1)\n",
            "Requirement already satisfied: werkzeug>=2.2.0 in /usr/local/lib/python3.11/dist-packages (from sendgrid) (3.1.3)\n",
            "Requirement already satisfied: six>=1.9.0 in /usr/local/lib/python3.11/dist-packages (from ecdsa<1,>=0.19.1->sendgrid) (1.17.0)\n",
            "Requirement already satisfied: MarkupSafe>=2.1.1 in /usr/local/lib/python3.11/dist-packages (from werkzeug>=2.2.0->sendgrid) (3.0.2)\n"
          ]
        }
      ]
    },
    {
      "cell_type": "code",
      "execution_count": 42,
      "metadata": {
        "id": "YEE1cUuVA_5U"
      },
      "outputs": [],
      "source": [
        "from agents import Agent\n",
        "\n",
        "from agents import trace\n",
        "\n",
        "from agents import Runner\n",
        "\n",
        "from agents import WebSearchTool\n",
        "\n",
        "from agents import gen_trace_id\n",
        "\n",
        "from agents import function_tool\n",
        "\n",
        "from agents.model_settings import ModelSettings\n",
        "\n",
        "from pydantic import BaseModel\n",
        "\n",
        "import asyncio\n",
        "\n",
        "import os\n",
        "\n",
        "from IPython.display import display, Markdown\n",
        "\n",
        "import sendgrid\n",
        "\n",
        "from sendgrid import SendGridAPIClient\n",
        "\n",
        "from sendgrid.helpers.mail import To\n",
        "\n",
        "from sendgrid.helpers.mail import Email\n",
        "\n",
        "from sendgrid.helpers.mail import Mail\n",
        "\n",
        "from sendgrid.helpers.mail import Content\n",
        "\n",
        "from typing import Dict\n",
        "\n",
        "from google.colab import userdata"
      ]
    },
    {
      "cell_type": "code",
      "source": [
        "openai_api_key = os.environ[\"OPENAI_API_KEY\"] = userdata.get(\"OpenAI_API_Key\")"
      ],
      "metadata": {
        "id": "IybeH4ZQLTHm"
      },
      "execution_count": 43,
      "outputs": []
    },
    {
      "cell_type": "code",
      "source": [
        "research_agent_instructions = \"\"\"\n",
        "\n",
        "You are a very sucessful and award-winning research assistant.\n",
        "\n",
        "Given a search term, you will always search the web for that term and generate a robust summary of the results.\n",
        "\n",
        "The summary must be strictly only 2 to 3 paragraphs and not more than 400 words.\n",
        "\n",
        "Capture only the essential and feasible points, write it in a very easy to understand way yet in extremely impacting tone.\n",
        "\n",
        "Do not include any unneccasary information other than the summary itself\n",
        "\n",
        "\"\"\""
      ],
      "metadata": {
        "id": "AKAdDlt0DkQ1"
      },
      "execution_count": 44,
      "outputs": []
    },
    {
      "cell_type": "code",
      "source": [
        "research_agent = Agent(\n",
        "\n",
        "                       name = \"Research Assistant\",\n",
        "\n",
        "                       instructions = research_agent_instructions,\n",
        "\n",
        "                       tools = [WebSearchTool(search_context_size = \"low\")],\n",
        "\n",
        "                       model_settings = ModelSettings(tool_choice = \"required\"),\n",
        "\n",
        "                       model = \"gpt-4o\"\n",
        ")\n",
        "\n",
        "query = \"AI's contribution in tackling and mitigating the impacts of Climate Change.\"\n",
        "\n",
        "with trace(\"Web Search\"):\n",
        "\n",
        "  web_search_result = await Runner.run(research_agent, query)\n",
        "\n",
        "print(display(Markdown(web_search_result.final_output)))"
      ],
      "metadata": {
        "colab": {
          "base_uri": "https://localhost:8080/",
          "height": 267
        },
        "id": "Rl1qmW_BJeNv",
        "outputId": "a689fa88-4ace-4786-ef97-6c8e3ac76a3f"
      },
      "execution_count": 45,
      "outputs": [
        {
          "output_type": "display_data",
          "data": {
            "text/plain": [
              "<IPython.core.display.Markdown object>"
            ],
            "text/markdown": "Artificial Intelligence (AI) is playing a pivotal role in combating climate change by enhancing our ability to monitor environmental changes, predict climate-related events, and implement effective mitigation strategies. AI-driven models analyze vast datasets from satellites and sensors to track deforestation, monitor ocean health, and forecast extreme weather events like hurricanes and floods. For instance, the European Flood Awareness System utilizes AI to provide accurate flood forecasts across Europe, enabling timely evacuations and resource mobilization to minimize damage and ensure public safety. ([holisticseo.digital](https://www.holisticseo.digital/ai/benefit/climate-change/?utm_source=openai))\n\nIn the energy sector, AI optimizes the integration of renewable sources such as wind and solar into power grids, improving efficiency and reducing reliance on fossil fuels. AI-powered smart grids balance energy supply and demand, reducing waste and enhancing grid stability. Additionally, AI aids in sustainable agriculture by analyzing data on crop yields, soil health, and weather patterns, enabling farmers to make informed decisions that lead to more efficient resource use and reduced emissions. ([appen.com](https://www.appen.com/blog/how-ai-technology-is-revolutionizing-climate-change-mitigation?utm_source=openai))\n\nFurthermore, AI contributes to climate adaptation by developing early warning systems for natural disasters, allowing communities to prepare and respond effectively. AI models can simulate the impact of rising sea levels on coastal infrastructure, assisting governments and businesses in formulating adaptation strategies. However, while AI offers significant opportunities in climate action, it also presents challenges, including the environmental costs associated with energy-intensive data centers. Therefore, careful implementation and balancing of AI's benefits and risks are crucial for its success in addressing climate change. ([ft.com](https://www.ft.com/content/2385e6ab-26ed-4e98-b70c-1d968246ea69?utm_source=openai)) "
          },
          "metadata": {}
        },
        {
          "output_type": "stream",
          "name": "stdout",
          "text": [
            "None\n"
          ]
        }
      ]
    },
    {
      "cell_type": "code",
      "source": [
        "how_many_searches = 3\n",
        "\n",
        "research_planner_agent_instructions = f\"You are a fellow and a very helpful research assistant. Given a query, come up with a set of web searches to best answer the query.Output {how_many_searches} terms to query for\""
      ],
      "metadata": {
        "id": "-DBDTWSxKVo4"
      },
      "execution_count": 46,
      "outputs": []
    },
    {
      "cell_type": "code",
      "source": [
        "class WebSearchItem(BaseModel):\n",
        "\n",
        "  reason: str\n",
        "  \"Your reasoning and thought process of why this search is important to the query.\"\n",
        "\n",
        "  query: str\n",
        "  \"The search term for to use for web searches\""
      ],
      "metadata": {
        "id": "LYOJtyLqP6kM"
      },
      "execution_count": 47,
      "outputs": []
    },
    {
      "cell_type": "code",
      "source": [
        "class WebSearchResultsList(BaseModel):\n",
        "\n",
        "  web_search_results : list[WebSearchItem]\n",
        "\n",
        "  \"\"\"List of relevant web links of the query search result.\"\"\"\n"
      ],
      "metadata": {
        "id": "DFneipZxROUs"
      },
      "execution_count": 48,
      "outputs": []
    },
    {
      "cell_type": "code",
      "source": [
        "research_planner_agent = Agent(\n",
        "\n",
        "                               name = \"Research Planner\",\n",
        "\n",
        "                               instructions = research_planner_agent_instructions,\n",
        "\n",
        "                               output_type = WebSearchResultsList,\n",
        "\n",
        "                               model = \"gpt-4o\"\n",
        ")\n",
        "\n",
        "query = \"AI's contribution in tackling and mitigating the impacts of Climate Change.\"\n",
        "\n",
        "with trace(\"Web Search Results\"):\n",
        "\n",
        "   web_search_results_list = await Runner.run(research_planner_agent, query)\n",
        "\n",
        "   for item in web_search_results_list.final_output.web_search_results:\n",
        "\n",
        "       print(f\"Reason: {item.reason}\")\n",
        "\n",
        "       print(f\"Query: {item.query}\")\n",
        "\n",
        "       print(\"-\" * 20) # Print a separator for clarity"
      ],
      "metadata": {
        "colab": {
          "base_uri": "https://localhost:8080/"
        },
        "id": "DYrq1JxmSGs_",
        "outputId": "77e88f87-4546-4fe4-d42f-8b88f34ceb54"
      },
      "execution_count": 49,
      "outputs": [
        {
          "output_type": "stream",
          "name": "stdout",
          "text": [
            "Reason: To find information about how AI is being used specifically in climate modeling and prediction.\n",
            "Query: AI in climate change modeling and prediction\n",
            "--------------------\n",
            "Reason: To explore AI-based solutions and innovations addressing climate change impacts.\n",
            "Query: AI technologies for mitigating climate change\n",
            "--------------------\n",
            "Reason: To understand the role of AI in optimizing energy use and promoting renewable energy sources.\n",
            "Query: AI in renewable energy and energy efficiency\n",
            "--------------------\n"
          ]
        }
      ]
    },
    {
      "cell_type": "code",
      "source": [
        "@function_tool\n",
        "\n",
        "def send_email(subject: str, html_body: str) -> Dict[str, str]:\n",
        "\n",
        "  \"\"\"Send out a given email with the given subject and html body. \"\"\"\n",
        "\n",
        "  sendgrid_client = SendGridAPIClient(api_key = userdata.get(\"SENDGRID_API_KEY\"))\n",
        "\n",
        "  to_email = To(\"faiaza037@gmail.com\")\n",
        "\n",
        "  from_email = Email(\"faiazrex8@gmail.com\")\n",
        "\n",
        "  content = Content(\"text/html\", html_body)\n",
        "\n",
        "  mail = Mail(to_email, from_email, subject, content).get()\n",
        "\n",
        "  response = sendgrid_client.client.send.mail.post(request_body = mail)\n",
        "\n",
        "  return {\"status\" : \"success\"}\n",
        "\n",
        "send_email"
      ],
      "metadata": {
        "colab": {
          "base_uri": "https://localhost:8080/"
        },
        "id": "E0dJAjXlYRxC",
        "outputId": "7289dc3a-961a-4661-9407-2220cf0ce8da"
      },
      "execution_count": 50,
      "outputs": [
        {
          "output_type": "execute_result",
          "data": {
            "text/plain": [
              "FunctionTool(name='send_email', description='Send out a given email with the given subject and html body.', params_json_schema={'properties': {'subject': {'title': 'Subject', 'type': 'string'}, 'html_body': {'title': 'Html Body', 'type': 'string'}}, 'required': ['subject', 'html_body'], 'title': 'send_email_args', 'type': 'object', 'additionalProperties': False}, on_invoke_tool=<function function_tool.<locals>._create_function_tool.<locals>._on_invoke_tool at 0x7d08b5e3b6a0>, strict_json_schema=True, is_enabled=True)"
            ]
          },
          "metadata": {},
          "execution_count": 50
        }
      ]
    },
    {
      "cell_type": "code",
      "source": [
        "email_agent_instructions = \"\"\"\n",
        "\n",
        "You send nice HTML formatted emails based on a detailed report as you will be provided a detailed report.\n",
        "\n",
        "Use your available tool to send one email providing the report is converted to a clean, well structured HTML with appropriate subject line.\n",
        "\n",
        "\"\"\"\n",
        "\n",
        "email_agent = Agent(\n",
        "\n",
        "                    name = \"Email Agent\",\n",
        "\n",
        "                    instructions = email_agent_instructions,\n",
        "\n",
        "                    tools = [send_email],\n",
        "\n",
        "                    model = \"gpt-4o\"\n",
        "\n",
        "                    )"
      ],
      "metadata": {
        "id": "mDhZbBTRddV4"
      },
      "execution_count": 51,
      "outputs": []
    },
    {
      "cell_type": "code",
      "source": [
        "research_writer_instructions =  \"\"\"\n",
        "\n",
        "You are a well experienced research writer tasked to preparing a cohesive report for a research query.\n",
        "\n",
        "You will be provided with the original query, and a few initial research draft done by a research assistant.\n",
        "\n",
        "You must first come up with the outline of the report that talks about the structure and flow of the report.\n",
        "\n",
        "Finally, generate the report and give that as your final output.\n",
        "\n",
        "The final output should be in a markdown format, and it should be lengthy and detailed, yet easy to understand.\n",
        "\n",
        "Deliver at least 5 to 7 pages of content of minimum 500 to 700 words.\n",
        "\n",
        "\"\"\""
      ],
      "metadata": {
        "id": "O9LpV71Ffi__"
      },
      "execution_count": 52,
      "outputs": []
    },
    {
      "cell_type": "code",
      "source": [
        "class ReportData(BaseModel):\n",
        "\n",
        "  summary: str\n",
        "  \"A summary of the report generated\"\n",
        "\n",
        "  markdown_report: str\n",
        "  \"The final report\"\n",
        "\n",
        "  follow_up_questions: list[str]\n",
        "  \"Further relevant and associated research areas to discuss and explore further\""
      ],
      "metadata": {
        "id": "6mcN5QkViETE"
      },
      "execution_count": 53,
      "outputs": []
    },
    {
      "cell_type": "code",
      "source": [
        "research_writer = Agent(\n",
        "\n",
        "                        name = \"Research Writer\",\n",
        "\n",
        "                        instructions = research_writer_instructions,\n",
        "\n",
        "                        model = \"gpt-4o\",\n",
        "\n",
        "                        output_type = ReportData\n",
        ")"
      ],
      "metadata": {
        "id": "32dFcyYki4lO"
      },
      "execution_count": 54,
      "outputs": []
    },
    {
      "cell_type": "code",
      "source": [
        "async def web_search_plan(query: str):\n",
        "\n",
        "  \"\"\"Use the research planner agent to plan which searches to run for the given query.\"\"\"\n",
        "\n",
        "  print(\"Planning web search for given query...\")\n",
        "\n",
        "  result = await Runner.run(research_planner_agent, f\"Query: {query}\")\n",
        "\n",
        "  print(f\"Will perform {len(result.final_output.web_search_results)} searches!\")\n",
        "\n",
        "  return result.final_output\n",
        "\n",
        "\n",
        "async def perform_web_search(search_plan : WebSearchResultsList):\n",
        "\n",
        "  \"\"\" Calling search() for each item in search results list.\"\"\"\n",
        "\n",
        "  print(\"Searching...\")\n",
        "\n",
        "  task = [asyncio.create_task(search(item)) for item in search_plan.web_search_results]\n",
        "\n",
        "  result = await asyncio.gather(*task)\n",
        "\n",
        "  print(\"Finished Searching!\")\n",
        "\n",
        "  return result\n",
        "\n",
        "\n",
        "async def search(item: WebSearchItem):\n",
        "\n",
        "  \"\"\" Using this search agent to run a web search to each item in the Web search plan/result list. \"\"\"\n",
        "\n",
        "  input = f\"Query: {item.query}, Reason: {item.reason}\"\n",
        "\n",
        "  result = await Runner.run(research_agent, input)\n",
        "\n",
        "  return result.final_output\n",
        "\n",
        "\n",
        "async def write_research_report(query: str, search_results: list):\n",
        "\n",
        "  \"\"\" Prepare a research report based on the web search results \"\"\"\n",
        "\n",
        "  print(\"Analyzing and preparing...\")\n",
        "\n",
        "  input = f\"Initial Query: {query}, Search Results: {search_results}\"\n",
        "\n",
        "  result = await Runner.run(research_writer, input)\n",
        "\n",
        "  print(\"Research report is ready!\")\n",
        "\n",
        "  return result.final_output\n",
        "\n",
        "\n",
        "async def send_research_report_email(report: ReportData):\n",
        "\n",
        "  print(\"Sending email with research report...\")\n",
        "\n",
        "  result = await Runner.run(email_agent, report.markdown_report)\n",
        "\n",
        "  print(\"Email Sent Sucessfully with final draft of Research Report attached.\")\n",
        "\n",
        "  return result.final_output"
      ],
      "metadata": {
        "id": "Z7flBZ9Pj1do"
      },
      "execution_count": 55,
      "outputs": []
    },
    {
      "cell_type": "code",
      "source": [
        "query = \"AI's contribution in tackling and mitigating the impacts of Climate Change.\"\n",
        "\n",
        "with trace(\"Research Report Generation\"):\n",
        "\n",
        "  print(\"Initializing research....\")\n",
        "\n",
        "  web_search_plan_result = await web_search_plan(query)\n",
        "\n",
        "  web_search_result = await perform_web_search(web_search_plan_result)\n",
        "\n",
        "  research_report = await write_research_report(query, web_search_result)\n",
        "\n",
        "  final_result = await send_research_report_email(research_report)\n",
        "\n",
        "  print(\"Entire task completed sucessfully end to end! Yupieeeee!!!! :-D\")"
      ],
      "metadata": {
        "colab": {
          "base_uri": "https://localhost:8080/"
        },
        "collapsed": true,
        "id": "IyrsVyQ9u2c6",
        "outputId": "7b55a3d5-6a41-45a8-c4aa-c3c16a76aa42"
      },
      "execution_count": 56,
      "outputs": [
        {
          "output_type": "stream",
          "name": "stdout",
          "text": [
            "Initializing research....\n",
            "Planning web search for given query...\n",
            "Will perform 3 searches!\n",
            "Searching...\n",
            "Finished Searching!\n",
            "Analyzing and preparing...\n",
            "Research report is ready!\n",
            "Sending email with research report...\n",
            "Email Sent Sucessfully with final draft of Research Report attached.\n",
            "Entire task completed sucessfully end to end! Yupieeeee!!!! :-D\n"
          ]
        }
      ]
    },
    {
      "cell_type": "code",
      "source": [],
      "metadata": {
        "id": "Sbcs-6ND8ky5"
      },
      "execution_count": null,
      "outputs": []
    }
  ]
}